{
  "nbformat": 4,
  "nbformat_minor": 0,
  "metadata": {
    "colab": {
      "provenance": [],
      "authorship_tag": "ABX9TyN6eEQLvQW9aIowbyBSj3Zl",
      "include_colab_link": true
    },
    "kernelspec": {
      "name": "python3",
      "display_name": "Python 3"
    },
    "language_info": {
      "name": "python"
    }
  },
  "cells": [
    {
      "cell_type": "markdown",
      "metadata": {
        "id": "view-in-github",
        "colab_type": "text"
      },
      "source": [
        "<a href=\"https://colab.research.google.com/github/sdas33/Classification-Challenge/blob/main/CompletedCode.ipynb\" target=\"_parent\"><img src=\"https://colab.research.google.com/assets/colab-badge.svg\" alt=\"Open In Colab\"/></a>"
      ]
    },
    {
      "cell_type": "code",
      "execution_count": 1,
      "metadata": {
        "colab": {
          "base_uri": "https://localhost:8080/"
        },
        "id": "GVFOmh6zeYLn",
        "outputId": "5adf1941-62f7-4bbc-a696-a94d98de6328"
      },
      "outputs": [
        {
          "output_type": "stream",
          "name": "stdout",
          "text": [
            "Label Balance:\n",
            " spam\n",
            "0    2788\n",
            "1    1813\n",
            "Name: count, dtype: int64\n",
            "Logistic Regression Accuracy: 0.9337676438653637\n",
            "Random Forest Accuracy: 0.9511400651465798\n",
            "Random Forest performed better.\n"
          ]
        }
      ],
      "source": [
        "# Import necessary libraries\n",
        "import pandas as pd\n",
        "from sklearn.model_selection import train_test_split\n",
        "from sklearn.preprocessing import StandardScaler\n",
        "from sklearn.linear_model import LogisticRegression\n",
        "from sklearn.ensemble import RandomForestClassifier\n",
        "from sklearn.metrics import accuracy_score\n",
        "\n",
        "# Load the dataset\n",
        "url = \"https://static.bc-edx.com/ai/ail-v-1-0/m13/challenge/spam-data.csv\"\n",
        "data = pd.read_csv(url)\n",
        "\n",
        "# Split data into features (X) and labels (y)\n",
        "X = data.drop(columns=[\"spam\"])\n",
        "y = data[\"spam\"]\n",
        "\n",
        "# Check balance of labels\n",
        "print(\"Label Balance:\\n\", y.value_counts())\n",
        "\n",
        "# Split the data into training and testing sets\n",
        "X_train, X_test, y_train, y_test = train_test_split(X, y, test_size=0.2, random_state=1, stratify=y)\n",
        "\n",
        "# Scale the features\n",
        "scaler = StandardScaler()\n",
        "X_train_scaled = scaler.fit_transform(X_train)\n",
        "X_test_scaled = scaler.transform(X_test)\n",
        "\n",
        "# Logistic Regression Model\n",
        "log_reg_model = LogisticRegression(random_state=1)\n",
        "log_reg_model.fit(X_train_scaled, y_train)\n",
        "log_reg_predictions = log_reg_model.predict(X_test_scaled)\n",
        "log_reg_accuracy = accuracy_score(y_test, log_reg_predictions)\n",
        "\n",
        "# Random Forest Model\n",
        "rf_model = RandomForestClassifier(random_state=1)\n",
        "rf_model.fit(X_train_scaled, y_train)\n",
        "rf_predictions = rf_model.predict(X_test_scaled)\n",
        "rf_accuracy = accuracy_score(y_test, rf_predictions)\n",
        "\n",
        "# Evaluate and compare models\n",
        "print(\"Logistic Regression Accuracy:\", log_reg_accuracy)\n",
        "print(\"Random Forest Accuracy:\", rf_accuracy)\n",
        "\n",
        "if rf_accuracy > log_reg_accuracy:\n",
        "    print(\"Random Forest performed better.\")\n",
        "else:\n",
        "    print(\"Logistic Regression performed better.\")\n",
        "\n",
        "# Predicted outcome:\n",
        "# Random Forest is expected to perform better because ensemble methods tend to handle feature importance and noise better in classification tasks.\n"
      ]
    }
  ]
}